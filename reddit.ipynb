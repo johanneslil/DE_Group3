{
 "cells": [
  {
   "cell_type": "code",
   "execution_count": 2,
   "id": "6b868ab7",
   "metadata": {},
   "outputs": [
    {
     "name": "stderr",
     "output_type": "stream",
     "text": [
      "Setting default log level to \"WARN\".\n",
      "To adjust logging level use sc.setLogLevel(newLevel). For SparkR, use setLogLevel(newLevel).\n"
     ]
    }
   ],
   "source": [
    "from pyspark.sql import SparkSession\n",
    "import pyspark.sql.functions as functions\n",
    "\n",
    "spark = SparkSession.builder\\\n",
    "    .master(\"spark://192.168.2.59:7077\")\\\n",
    "    .appName(\"test_app\")\\\n",
    "    .config(\"spark.driver.memory\",\"4096m\")\\\n",
    "    .config(\"spark.executor.memory\", \"2048m\")\\\n",
    "    .getOrCreate()"
   ]
  },
  {
   "cell_type": "code",
   "execution_count": 3,
   "id": "0d97be47",
   "metadata": {},
   "outputs": [
    {
     "name": "stderr",
     "output_type": "stream",
     "text": [
      "                                                                                \r"
     ]
    }
   ],
   "source": [
    "rc = spark.read.format('json').load('hdfs:///reddit_comments')"
   ]
  },
  {
   "cell_type": "code",
   "execution_count": 5,
   "id": "5b545efc",
   "metadata": {},
   "outputs": [
    {
     "name": "stderr",
     "output_type": "stream",
     "text": [
      "[Stage 4:======================================================>  (24 + 1) / 25]\r"
     ]
    },
    {
     "name": "stdout",
     "output_type": "stream",
     "text": [
      "+----------+------+\n",
      "| subreddit| count|\n",
      "+----------+------+\n",
      "| AskReddit|875973|\n",
      "|      pics|487514|\n",
      "|reddit.com|325653|\n",
      "|    gaming|244828|\n",
      "|  politics|243931|\n",
      "+----------+------+\n",
      "only showing top 5 rows\n",
      "\n"
     ]
    },
    {
     "name": "stderr",
     "output_type": "stream",
     "text": [
      "                                                                                \r"
     ]
    }
   ],
   "source": [
    "df_subreddits = rc.groupBy('subreddit')\n",
    "df_subreddits_count = df_subreddits.count().orderBy(\"count\", ascending=False)\n",
    "df_subreddits_count.show(5)"
   ]
  },
  {
   "cell_type": "code",
   "execution_count": 6,
   "id": "79b2b3f2",
   "metadata": {},
   "outputs": [],
   "source": [
    "# Defines function that counts number of bad words\n",
    "\n",
    "# Bad words\n",
    "profanity= [\"asshole\",\"bitch\",\"bloody\",\"bollocks\",\"bugger\",\"bullshit\",\"bitch\",\"cock\",\"cocksucker\",\"coonass\",\"cornhole\",\"cracker\"\n",
    "            ,\"cunt\",\"dick\",\"dickhead\",\"faggot\",\"fuck\",\"motherfucker\",\"nigga\",\"nigger\",\"paki\",\"pussy\",\"shit\",\"slut\",\"tranny\"\n",
    "            \"twat\",\"wanker\"]\n",
    "\n",
    "# Function to count nr profanity in a single comment\n",
    "def count_profanity(comment):\n",
    "    count = 0\n",
    "    for word in comment.split():\n",
    "        if word.lower() in profanity:\n",
    "            count += 1\n",
    "    return count\n",
    "    \n",
    "# User defined function boilerplate code\n",
    "udf_count_profanity = functions.udf(lambda x: count_profanity(x))\n"
   ]
  },
  {
   "cell_type": "code",
   "execution_count": 8,
   "id": "a0719957",
   "metadata": {},
   "outputs": [
    {
     "name": "stdout",
     "output_type": "stream",
     "text": [
      "root\n",
      " |-- body: string (nullable = true)\n",
      " |-- subreddit: string (nullable = true)\n",
      "\n"
     ]
    }
   ],
   "source": [
    "# Removes unecessary columns\n",
    "remove_cols = [\"archived\",\"author_flair_css_class\",\"author\", \"author_flair_text\", \"controversiality\", \"created_utc\", \\\n",
    "              \"distinguished\", \"downs\", \"edited\", \"gilded\", \"id\", \"link_id\", \"name\", \"parent_id\", \"removal_reason\", \\\n",
    "              \"retrieved_on\", \"score\", \"score_hidden\", \"subreddit_id\", \"ups\"]\n",
    "\n",
    "\n",
    "df_slim = rc.drop(*remove_cols)\n",
    "df_slim.printSchema()\n"
   ]
  },
  {
   "cell_type": "code",
   "execution_count": 9,
   "id": "e6645f06",
   "metadata": {},
   "outputs": [
    {
     "name": "stdout",
     "output_type": "stream",
     "text": [
      "root\n",
      " |-- subreddit: string (nullable = true)\n",
      " |-- bad_words: integer (nullable = true)\n",
      "\n"
     ]
    }
   ],
   "source": [
    "# Count nr bad words for all comments and convert column to int\n",
    "from pyspark.sql.types import IntegerType\n",
    "\n",
    "d1 = df_slim.withColumn(\"bad_words\", udf_count_profanity(functions.col(\"body\")))\n",
    "d2 = d1.drop(\"body\")\n",
    "d3 = d2.selectExpr(\"subreddit\", \"cast(bad_words as int) bad_words\")\n",
    "d3.printSchema()\n"
   ]
  },
  {
   "cell_type": "code",
   "execution_count": 10,
   "id": "a1d5b8d8",
   "metadata": {},
   "outputs": [
    {
     "name": "stderr",
     "output_type": "stream",
     "text": [
      "[Stage 7:======================================================>  (24 + 1) / 25]\r"
     ]
    },
    {
     "name": "stdout",
     "output_type": "stream",
     "text": [
      "+----------+--------------+\n",
      "| subreddit|sum(bad_words)|\n",
      "+----------+--------------+\n",
      "| AskReddit|         39532|\n",
      "|      pics|         17017|\n",
      "|reddit.com|         14970|\n",
      "|  politics|         12873|\n",
      "|       WTF|         10052|\n",
      "+----------+--------------+\n",
      "only showing top 5 rows\n",
      "\n"
     ]
    },
    {
     "name": "stderr",
     "output_type": "stream",
     "text": [
      "                                                                                \r"
     ]
    }
   ],
   "source": [
    "# Sort by each subreddit and add up bad words \n",
    "d4 = d3.groupBy(\"subreddit\").sum(\"bad_words\").sort('sum(bad_words)', ascending=False).show(5)"
   ]
  },
  {
   "cell_type": "code",
   "execution_count": null,
   "id": "da1f05d1",
   "metadata": {},
   "outputs": [],
   "source": []
  }
 ],
 "metadata": {
  "kernelspec": {
   "display_name": "Python 3 (ipykernel)",
   "language": "python",
   "name": "python3"
  },
  "language_info": {
   "codemirror_mode": {
    "name": "ipython",
    "version": 3
   },
   "file_extension": ".py",
   "mimetype": "text/x-python",
   "name": "python",
   "nbconvert_exporter": "python",
   "pygments_lexer": "ipython3",
   "version": "3.10.6"
  }
 },
 "nbformat": 4,
 "nbformat_minor": 5
}
