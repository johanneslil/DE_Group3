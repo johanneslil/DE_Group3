{
 "cells": [
  {
   "cell_type": "code",
   "execution_count": 40,
   "id": "6b868ab7",
   "metadata": {},
   "outputs": [],
   "source": [
    "from pyspark.sql import SparkSession\n",
    "import pyspark.sql.functions as functions\n",
    "\n",
    "spark = SparkSession.builder\\\n",
    "    .master(\"spark://192.168.2.59:7077\")\\\n",
    "    .appName(\"test_app\")\\\n",
    "    .config(\"spark.driver.memory\",\"4096m\")\\\n",
    "    .config(\"spark.executor.memory\", \"2048m\")\\\n",
    "    .getOrCreate()"
   ]
  },
  {
   "cell_type": "code",
   "execution_count": 3,
   "id": "0d97be47",
   "metadata": {},
   "outputs": [
    {
     "name": "stderr",
     "output_type": "stream",
     "text": [
      "                                                                                \r"
     ]
    }
   ],
   "source": [
    "rc = spark.read.format('json').load('hdfs:///reddit_comments')"
   ]
  },
  {
   "cell_type": "code",
   "execution_count": 4,
   "id": "9f3a5096",
   "metadata": {},
   "outputs": [
    {
     "name": "stdout",
     "output_type": "stream",
     "text": [
      "root\n",
      " |-- archived: boolean (nullable = true)\n",
      " |-- author: string (nullable = true)\n",
      " |-- author_flair_css_class: string (nullable = true)\n",
      " |-- author_flair_text: string (nullable = true)\n",
      " |-- body: string (nullable = true)\n",
      " |-- controversiality: long (nullable = true)\n",
      " |-- created_utc: string (nullable = true)\n",
      " |-- distinguished: string (nullable = true)\n",
      " |-- downs: long (nullable = true)\n",
      " |-- edited: string (nullable = true)\n",
      " |-- gilded: long (nullable = true)\n",
      " |-- id: string (nullable = true)\n",
      " |-- link_id: string (nullable = true)\n",
      " |-- name: string (nullable = true)\n",
      " |-- parent_id: string (nullable = true)\n",
      " |-- removal_reason: string (nullable = true)\n",
      " |-- retrieved_on: long (nullable = true)\n",
      " |-- score: long (nullable = true)\n",
      " |-- score_hidden: boolean (nullable = true)\n",
      " |-- subreddit: string (nullable = true)\n",
      " |-- subreddit_id: string (nullable = true)\n",
      " |-- ups: long (nullable = true)\n",
      "\n"
     ]
    }
   ],
   "source": [
    "rc.printSchema()"
   ]
  },
  {
   "cell_type": "code",
   "execution_count": 8,
   "id": "2974eca5",
   "metadata": {},
   "outputs": [
    {
     "name": "stderr",
     "output_type": "stream",
     "text": [
      "                                                                                \r"
     ]
    },
    {
     "data": {
      "text/plain": [
       "5689002"
      ]
     },
     "execution_count": 8,
     "metadata": {},
     "output_type": "execute_result"
    }
   ],
   "source": [
    "rc.count()"
   ]
  },
  {
   "cell_type": "code",
   "execution_count": 5,
   "id": "5b545efc",
   "metadata": {},
   "outputs": [
    {
     "name": "stderr",
     "output_type": "stream",
     "text": [
      "[Stage 3:>                                                          (0 + 1) / 1]\r"
     ]
    },
    {
     "name": "stdout",
     "output_type": "stream",
     "text": [
      "+-------------------+------+\n",
      "|          subreddit| count|\n",
      "+-------------------+------+\n",
      "|          AskReddit|875973|\n",
      "|               pics|487514|\n",
      "|         reddit.com|325653|\n",
      "|             gaming|244828|\n",
      "|           politics|243931|\n",
      "|               IAmA|210891|\n",
      "|                WTF|196335|\n",
      "|              funny|165341|\n",
      "|            atheism|139363|\n",
      "|              trees|131064|\n",
      "|fffffffuuuuuuuuuuuu|106991|\n",
      "|          worldnews| 80233|\n",
      "|          Minecraft| 75818|\n",
      "|            science| 66700|\n",
      "|        programming| 57470|\n",
      "|          starcraft| 55682|\n",
      "|             videos| 54423|\n",
      "|                sex| 54348|\n",
      "|    DoesAnybodyElse| 52189|\n",
      "|      todayilearned| 47765|\n",
      "+-------------------+------+\n",
      "only showing top 20 rows\n",
      "\n"
     ]
    },
    {
     "name": "stderr",
     "output_type": "stream",
     "text": [
      "                                                                                \r"
     ]
    }
   ],
   "source": [
    "df_subreddits = rc.groupBy('subreddit')\n",
    "df_subreddits.count().orderBy(\"count\", ascending=False).show()"
   ]
  },
  {
   "cell_type": "code",
   "execution_count": 78,
   "id": "ccae4f3e",
   "metadata": {},
   "outputs": [
    {
     "name": "stderr",
     "output_type": "stream",
     "text": [
      "[Stage 68:=====================================================>  (24 + 1) / 25]\r"
     ]
    },
    {
     "name": "stdout",
     "output_type": "stream",
     "text": [
      "+----+------+\n",
      "|word| count|\n",
      "+----+------+\n",
      "| the|885481|\n",
      "|  to|732147|\n",
      "|   a|692565|\n",
      "|   i|662375|\n",
      "| and|590956|\n",
      "|    |527078|\n",
      "|  of|462674|\n",
      "| you|382370|\n",
      "|  in|327330|\n",
      "|that|326638|\n",
      "|  is|301202|\n",
      "|  it|264385|\n",
      "| for|236848|\n",
      "|  my|193792|\n",
      "| was|187433|\n",
      "|have|182522|\n",
      "|with|179988|\n",
      "|  on|170839|\n",
      "|  be|166245|\n",
      "| but|154472|\n",
      "+----+------+\n",
      "only showing top 20 rows\n",
      "\n"
     ]
    },
    {
     "name": "stderr",
     "output_type": "stream",
     "text": [
      "                                                                                \r"
     ]
    }
   ],
   "source": [
    "df_askreddit = rc.filter(rc[\"subreddit\"] == \"AskReddit\")\n",
    "\n",
    "df_askreddit_words = df_askreddit.withColumn('word',(functions.explode(functions.split(functions.col('body'), ' '))))\\\n",
    "    .groupBy('word')\\\n",
    "    .count()\\\n",
    "    .sort('count', ascending=False)\n",
    "\n",
    "lowercase_askreddit_words = df_askreddit_words.withColumn(\"word\", functions.lower(df_askreddit_words[\"word\"]))\n",
    "lowercase_askreddit_words.show()"
   ]
  },
  {
   "cell_type": "code",
   "execution_count": 54,
   "id": "48ff1431",
   "metadata": {},
   "outputs": [],
   "source": [
    "df_askreddit = rc.filter(rc[\"subreddit\"] == \"pics\")\n",
    "\n",
    "df_pics_words = df_askreddit.withColumn('word', functions.explode(functions.split(functions.col('body'), ' ')))\\\n",
    "    .groupBy('word')\\\n",
    "    .count()\\\n",
    "    .sort('count', ascending=False)"
   ]
  },
  {
   "cell_type": "code",
   "execution_count": 62,
   "id": "f37873e5",
   "metadata": {},
   "outputs": [
    {
     "name": "stderr",
     "output_type": "stream",
     "text": [
      "[Stage 47:=====================================================>  (24 + 1) / 25]\r"
     ]
    },
    {
     "name": "stdout",
     "output_type": "stream",
     "text": [
      "+------------+-----+\n",
      "|        word|count|\n",
      "+------------+-----+\n",
      "|        Fuck| 2631|\n",
      "|        Shit|  564|\n",
      "|        Dick|  209|\n",
      "|       Bitch|   86|\n",
      "|      Bloody|   75|\n",
      "|    Bullshit|   36|\n",
      "|        Cock|   33|\n",
      "|       Pussy|   31|\n",
      "|     Asshole|   27|\n",
      "|        Cunt|   24|\n",
      "|      Nigger|   14|\n",
      "|     Cracker|   12|\n",
      "|        Slut|   12|\n",
      "|        Paki|   10|\n",
      "|Motherfucker|   10|\n",
      "|    Dickhead|    9|\n",
      "|    Bollocks|    5|\n",
      "|       Nigga|    5|\n",
      "|      Faggot|    3|\n",
      "|      Bugger|    1|\n",
      "+------------+-----+\n",
      "\n"
     ]
    },
    {
     "name": "stderr",
     "output_type": "stream",
     "text": [
      "                                                                                \r"
     ]
    }
   ],
   "source": [
    "profanity= [\"asshole\",\"bitch\",\"bloody\",\"bollocks\",\"bugger\",\"bullshit\",\"bitch\",\"cock\",\"cocksucker\",\"coonass\",\"Cornhole\",\"Cracker\"\n",
    "            ,\"Cunt\",\"Dick\",\"Dickhead\",\"Faggot\",\"Fuck\",\"Motherfucker\",\"Nigga\",\"Nigger\",\"Paki\",\"Pussy\",\"Shit\",\"Slut\",\"Tranny\"\n",
    "            \"Twat\",\"Wanker\"]\n",
    "\n",
    "ask_reddit_count = 0\n",
    "pics_count = 0\n",
    "\n",
    "askreddit_profanity = df_askreddit_words.filter(df_askreddit_words[\"word\"].isin(profanity))\n",
    "\n",
    "askreddit_profanity.show()\n",
    "\n"
   ]
  },
  {
   "cell_type": "code",
   "execution_count": null,
   "id": "82d34336",
   "metadata": {},
   "outputs": [],
   "source": []
  }
 ],
 "metadata": {
  "kernelspec": {
   "display_name": "Python 3 (ipykernel)",
   "language": "python",
   "name": "python3"
  },
  "language_info": {
   "codemirror_mode": {
    "name": "ipython",
    "version": 3
   },
   "file_extension": ".py",
   "mimetype": "text/x-python",
   "name": "python",
   "nbconvert_exporter": "python",
   "pygments_lexer": "ipython3",
   "version": "3.10.6"
  }
 },
 "nbformat": 4,
 "nbformat_minor": 5
}
