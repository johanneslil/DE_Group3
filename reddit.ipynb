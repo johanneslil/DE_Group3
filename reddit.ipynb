{
 "cells": [
  {
   "cell_type": "code",
   "execution_count": 1,
   "id": "6b868ab7",
   "metadata": {},
   "outputs": [
    {
     "name": "stderr",
     "output_type": "stream",
     "text": [
      "Setting default log level to \"WARN\".\n",
      "To adjust logging level use sc.setLogLevel(newLevel). For SparkR, use setLogLevel(newLevel).\n"
     ]
    }
   ],
   "source": [
    "from pyspark.sql import SparkSession\n",
    "import pyspark.sql.functions as functions\n",
    "\n",
    "spark = SparkSession.builder\\\n",
    "    .master(\"spark://192.168.2.59:7077\")\\\n",
    "    .appName(\"test_app\")\\\n",
    "    .config(\"spark.driver.memory\",\"4096m\")\\\n",
    "    .config(\"spark.executor.memory\", \"2048m\")\\\n",
    "    .getOrCreate()"
   ]
  },
  {
   "cell_type": "code",
   "execution_count": 2,
   "id": "0d97be47",
   "metadata": {},
   "outputs": [
    {
     "name": "stderr",
     "output_type": "stream",
     "text": [
      "                                                                                \r"
     ]
    }
   ],
   "source": [
    "rc = spark.read.format('json').load('hdfs:///reddit_comments')"
   ]
  },
  {
   "cell_type": "code",
   "execution_count": 3,
   "id": "9f3a5096",
   "metadata": {},
   "outputs": [
    {
     "name": "stdout",
     "output_type": "stream",
     "text": [
      "root\n",
      " |-- archived: boolean (nullable = true)\n",
      " |-- author: string (nullable = true)\n",
      " |-- author_flair_css_class: string (nullable = true)\n",
      " |-- author_flair_text: string (nullable = true)\n",
      " |-- body: string (nullable = true)\n",
      " |-- controversiality: long (nullable = true)\n",
      " |-- created_utc: string (nullable = true)\n",
      " |-- distinguished: string (nullable = true)\n",
      " |-- downs: long (nullable = true)\n",
      " |-- edited: string (nullable = true)\n",
      " |-- gilded: long (nullable = true)\n",
      " |-- id: string (nullable = true)\n",
      " |-- link_id: string (nullable = true)\n",
      " |-- name: string (nullable = true)\n",
      " |-- parent_id: string (nullable = true)\n",
      " |-- removal_reason: string (nullable = true)\n",
      " |-- retrieved_on: long (nullable = true)\n",
      " |-- score: long (nullable = true)\n",
      " |-- score_hidden: boolean (nullable = true)\n",
      " |-- subreddit: string (nullable = true)\n",
      " |-- subreddit_id: string (nullable = true)\n",
      " |-- ups: long (nullable = true)\n",
      "\n"
     ]
    }
   ],
   "source": [
    "rc.printSchema()"
   ]
  },
  {
   "cell_type": "code",
   "execution_count": null,
   "id": "2974eca5",
   "metadata": {},
   "outputs": [],
   "source": []
  },
  {
   "cell_type": "code",
   "execution_count": 4,
   "id": "5b545efc",
   "metadata": {},
   "outputs": [
    {
     "name": "stderr",
     "output_type": "stream",
     "text": [
      "[Stage 3:>                                                          (0 + 1) / 1]\r"
     ]
    },
    {
     "name": "stdout",
     "output_type": "stream",
     "text": [
      "+----------+------+\n",
      "| subreddit| count|\n",
      "+----------+------+\n",
      "| AskReddit|875973|\n",
      "|      pics|487514|\n",
      "|reddit.com|325653|\n",
      "|    gaming|244828|\n",
      "|  politics|243931|\n",
      "+----------+------+\n",
      "only showing top 5 rows\n",
      "\n"
     ]
    },
    {
     "name": "stderr",
     "output_type": "stream",
     "text": [
      "                                                                                \r"
     ]
    }
   ],
   "source": [
    "df_subreddits = rc.groupBy('subreddit')\n",
    "df_subreddits_count = df_subreddits.count().orderBy(\"count\", ascending=False)\n",
    "df_subreddits_count.show(5)"
   ]
  },
  {
   "cell_type": "code",
   "execution_count": null,
   "id": "539e8a11",
   "metadata": {},
   "outputs": [],
   "source": []
  },
  {
   "cell_type": "code",
   "execution_count": null,
   "id": "ccae4f3e",
   "metadata": {},
   "outputs": [],
   "source": [
    "df_askreddit = rc.filter(rc[\"subreddit\"] == \"AskReddit\")\n",
    "\n",
    "df_askreddit_words = df_askreddit.withColumn('word',(functions.explode(functions.split(functions.col('body'), ' '))))\\\n",
    "    .groupBy('word')\\\n",
    "    .count()\\\n",
    "    .sort('count', ascending=False)\n",
    "\n",
    "lowercase_askreddit_words = df_askreddit_words.withColumn(\"word\", functions.lower(df_askreddit_words[\"word\"]))\n",
    "lowercase_askreddit_words.show()"
   ]
  },
  {
   "cell_type": "code",
   "execution_count": null,
   "id": "48ff1431",
   "metadata": {},
   "outputs": [],
   "source": [
    "df_askreddit = rc.filter(rc[\"subreddit\"] == \"pics\")\n",
    "\n",
    "df_pics_words = df_askreddit.withColumn('word', functions.explode(functions.split(functions.col('body'), ' ')))\\\n",
    "    .groupBy('word')\\\n",
    "    .count()\\\n",
    "    .sort('count', ascending=False)\n",
    "\n",
    "lowercase_pics_words = df_pics_words.withColumn(\"word\", functions.lower(df_pics_words[\"word\"]))\n",
    "lowercase_pics_words.show()"
   ]
  },
  {
   "cell_type": "code",
   "execution_count": null,
   "id": "1e5bcac5",
   "metadata": {},
   "outputs": [],
   "source": [
    "profanity= [\"asshole\",\"bitch\",\"bloody\",\"bollocks\",\"bugger\",\"bullshit\",\"bitch\",\"cock\",\"cocksucker\",\"coonass\",\"cornhole\",\"cracker\"\n",
    "            ,\"cunt\",\"dick\",\"dickhead\",\"faggot\",\"fuck\",\"motherfucker\",\"nigga\",\"nigger\",\"paki\",\"pussy\",\"shit\",\"slut\",\"tranny\"\n",
    "            \"twat\",\"wanker\"]\n",
    "\n",
    "askreddit_profanity = df_askreddit_words.filter(df_askreddit_words[\"word\"].isin(profanity))\n",
    "\n",
    "total_profanity_askreddit = askreddit_profanity.select(functions.sum(\"count\"))\n",
    "\n",
    "total_profanity_askreddit.show()"
   ]
  },
  {
   "cell_type": "code",
   "execution_count": null,
   "id": "620764ae",
   "metadata": {},
   "outputs": [],
   "source": [
    "pics_profanity = df_pics_words.filter(df_pics_words[\"word\"].isin(profanity))\n",
    "\n",
    "total_profanity_pics = pics_profanity.select(functions.sum(\"count\"))\n",
    "\n",
    "total_profanity_pics.show()"
   ]
  },
  {
   "cell_type": "code",
   "execution_count": null,
   "id": "e89337ff",
   "metadata": {},
   "outputs": [],
   "source": [
    "\n",
    "df_subreddit_words = df_subreddit.withColumn('word',(functions.explode(functions.split(functions.col('body'), ' '))))\\\n",
    "    .groupBy('word')\\\n",
    "    .count()\\\n",
    "    .sort('count', ascending=False)\n",
    "\n",
    "lowercase_askreddit_words = df_askreddit_words.withColumn(\"word\", functions.lower(df_askreddit_words[\"word\"]))\n",
    "lowercase_askreddit_words.show()\n",
    "\n",
    "askreddit_profanity = df_askreddit_words.filter(df_askreddit_words[\"word\"].isin(profanity))\n",
    "\n",
    "total_profanity_askreddit = askreddit_profanity.select(functions.sum(\"count\"))"
   ]
  },
  {
   "cell_type": "code",
   "execution_count": 5,
   "id": "07927b8a",
   "metadata": {},
   "outputs": [],
   "source": [
    "df_small = rc.filter(rc[\"subreddit\"] == \"trees\")"
   ]
  },
  {
   "cell_type": "code",
   "execution_count": 6,
   "id": "79b2b3f2",
   "metadata": {},
   "outputs": [],
   "source": [
    "# Defines function that counts number of bad words\n",
    "\n",
    "# Bad words\n",
    "profanity= [\"asshole\",\"bitch\",\"bloody\",\"bollocks\",\"bugger\",\"bullshit\",\"bitch\",\"cock\",\"cocksucker\",\"coonass\",\"cornhole\",\"cracker\"\n",
    "            ,\"cunt\",\"dick\",\"dickhead\",\"faggot\",\"fuck\",\"motherfucker\",\"nigga\",\"nigger\",\"paki\",\"pussy\",\"shit\",\"slut\",\"tranny\"\n",
    "            \"twat\",\"wanker\"]\n",
    "\n",
    "# Function to count nr profanity in a single comment\n",
    "def count_profanity(comment):\n",
    "    count = 0\n",
    "    for word in comment.split():\n",
    "        if word.lower() in profanity:\n",
    "            count += 1\n",
    "    return count\n",
    "    \n",
    "# User defined function boilerplate code\n",
    "udf_count_profanity = functions.udf(lambda x: count_profanity(x))\n"
   ]
  },
  {
   "cell_type": "code",
   "execution_count": 7,
   "id": "663bcb63",
   "metadata": {},
   "outputs": [
    {
     "name": "stderr",
     "output_type": "stream",
     "text": [
      "[Stage 4:======================================================>  (24 + 1) / 25]\r"
     ]
    },
    {
     "name": "stdout",
     "output_type": "stream",
     "text": [
      "+---------+---------+---------------+\n",
      "|subreddit|bad_words|         author|\n",
      "+---------+---------+---------------+\n",
      "|    trees|        7|      natenwman|\n",
      "|    trees|        6|      [deleted]|\n",
      "|    trees|        6|  DidntClickGuy|\n",
      "|    trees|        6|        Adhamio|\n",
      "|    trees|        5|aDildoAteMyBaby|\n",
      "+---------+---------+---------------+\n",
      "only showing top 5 rows\n",
      "\n"
     ]
    },
    {
     "name": "stderr",
     "output_type": "stream",
     "text": [
      "                                                                                \r"
     ]
    }
   ],
   "source": [
    "# Use withColumn to create a new column with long color names\n",
    "d4 = df_small.withColumn(\"bad_words\", udf_count_profanity(functions.col(\"body\")))\n",
    "d4.sort('bad_words', ascending=False).select(\"subreddit\", \"bad_words\", \"author\").show(5)\n"
   ]
  },
  {
   "cell_type": "code",
   "execution_count": 16,
   "id": "a0719957",
   "metadata": {},
   "outputs": [
    {
     "name": "stdout",
     "output_type": "stream",
     "text": [
      "root\n",
      " |-- body: string (nullable = true)\n",
      " |-- subreddit: string (nullable = true)\n",
      "\n"
     ]
    }
   ],
   "source": [
    "# Removes unecessary columns\n",
    "remove_cols = [\"archived\",\"author_flair_css_class\",\"author\", \"author_flair_text\", \"controversiality\", \"created_utc\", \\\n",
    "              \"distinguished\", \"downs\", \"edited\", \"gilded\", \"id\", \"link_id\", \"name\", \"parent_id\", \"removal_reason\", \\\n",
    "              \"retrieved_on\", \"score\", \"score_hidden\", \"subreddit_id\", \"ups\"]\n",
    "\n",
    "\n",
    "df_slim = rc.drop(*remove_cols)\n",
    "df_slim.printSchema()\n"
   ]
  },
  {
   "cell_type": "code",
   "execution_count": 33,
   "id": "e6645f06",
   "metadata": {},
   "outputs": [
    {
     "name": "stdout",
     "output_type": "stream",
     "text": [
      "root\n",
      " |-- subreddit: string (nullable = true)\n",
      " |-- bad_words: integer (nullable = true)\n",
      "\n"
     ]
    }
   ],
   "source": [
    "# Count nr bad words for all comments and convert column to int\n",
    "from pyspark.sql.types import IntegerType\n",
    "\n",
    "d1 = df_slim.withColumn(\"bad_words\", udf_count_profanity(functions.col(\"body\")))\n",
    "d2 = d1.drop(\"body\")\n",
    "d3 = d2.selectExpr(\"subreddit\", \"cast(bad_words as int) bad_words\")\n",
    "d3.printSchema()\n"
   ]
  },
  {
   "cell_type": "code",
   "execution_count": 38,
   "id": "a1d5b8d8",
   "metadata": {},
   "outputs": [
    {
     "name": "stderr",
     "output_type": "stream",
     "text": [
      "[Stage 16:>                                                         (0 + 1) / 1]\r"
     ]
    },
    {
     "name": "stdout",
     "output_type": "stream",
     "text": [
      "+----------+--------------+\n",
      "| subreddit|sum(bad_words)|\n",
      "+----------+--------------+\n",
      "| AskReddit|         39532|\n",
      "|      pics|         17017|\n",
      "|reddit.com|         14970|\n",
      "|  politics|         12873|\n",
      "|       WTF|         10052|\n",
      "+----------+--------------+\n",
      "only showing top 5 rows\n",
      "\n"
     ]
    },
    {
     "name": "stderr",
     "output_type": "stream",
     "text": [
      "                                                                                \r"
     ]
    }
   ],
   "source": [
    "# Sort by each subreddit and add up bad words \n",
    "d4 = d3.groupBy(\"subreddit\").sum(\"bad_words\").sort('sum(bad_words)', ascending=False).show(5)"
   ]
  },
  {
   "cell_type": "code",
   "execution_count": 30,
   "id": "a7c8c24f",
   "metadata": {},
   "outputs": [
    {
     "name": "stdout",
     "output_type": "stream",
     "text": [
      "hello world\n"
     ]
    }
   ],
   "source": []
  },
  {
   "cell_type": "code",
   "execution_count": null,
   "id": "da1f05d1",
   "metadata": {},
   "outputs": [],
   "source": []
  }
 ],
 "metadata": {
  "kernelspec": {
   "display_name": "Python 3 (ipykernel)",
   "language": "python",
   "name": "python3"
  },
  "language_info": {
   "codemirror_mode": {
    "name": "ipython",
    "version": 3
   },
   "file_extension": ".py",
   "mimetype": "text/x-python",
   "name": "python",
   "nbconvert_exporter": "python",
   "pygments_lexer": "ipython3",
   "version": "3.10.6"
  }
 },
 "nbformat": 4,
 "nbformat_minor": 5
}
